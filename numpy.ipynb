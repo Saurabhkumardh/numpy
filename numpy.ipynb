{
  "nbformat": 4,
  "nbformat_minor": 0,
  "metadata": {
    "colab": {
      "provenance": []
    },
    "kernelspec": {
      "name": "python3",
      "display_name": "Python 3"
    },
    "language_info": {
      "name": "python"
    }
  },
  "cells": [
    {
      "cell_type": "markdown",
      "source": [
        "Question 1"
      ],
      "metadata": {
        "id": "vLd4R82u09RU"
      }
    },
    {
      "cell_type": "code",
      "source": [
        "import numpy as np\n",
        "list = [ '1' , '2' , '3' , '4' , '5' ]\n",
        "array_list = np.array(object = list)\n",
        "print('print type list ',type(list))\n",
        "print('print type array list ',type(array_list))"
      ],
      "metadata": {
        "id": "KhHwuDwk1Av_"
      },
      "execution_count": 4,
      "outputs": []
    },
    {
      "cell_type": "markdown",
      "source": [
        "Question 2"
      ],
      "metadata": {
        "id": "1YKj0XTK2EJJ"
      }
    },
    {
      "cell_type": "code",
      "source": [
        "import numpy as np\n",
        "\n",
        "list_ = ['1', '2', '3', '4', '5']\n",
        "array_list = np.array(object=list_)\n",
        "print(\"Data types of elements in list_:\")\n",
        "for item in list_:\n",
        "    print(type(item))\n",
        "print(\"\\nData types of elements in array_list:\")\n",
        "for item in array_list:\n",
        "    print(type(item))\n"
      ],
      "metadata": {
        "id": "DOczKHcA5UhC"
      },
      "execution_count": null,
      "outputs": []
    },
    {
      "cell_type": "markdown",
      "source": [
        "Question 3"
      ],
      "metadata": {
        "id": "DJ8A_Vu03K1U"
      }
    },
    {
      "cell_type": "code",
      "source": [
        "import numpy as np\n",
        "\n",
        "# Given list\n",
        "num_list = [[1, 2, 3], [4, 5, 6]]\n",
        "\n",
        "# Convert list to NumPy array\n",
        "array_list = np.array(num_list, dtype=int)\n",
        "\n",
        "# Print data types of elements in original list\n",
        "print(\"Data types in original list:\")\n",
        "for row in num_list:\n",
        "    for item in row:\n",
        "        print(type(item))\n",
        "\n",
        "# Print data types of elements in NumPy array\n",
        "print(\"\\nData types in array_list:\")\n",
        "for row in array_list:\n",
        "    for item in row:\n",
        "        print(type(item))\n"
      ],
      "metadata": {
        "colab": {
          "base_uri": "https://localhost:8080/"
        },
        "id": "S7gPhCTi2Gq5",
        "outputId": "b2d65049-6a87-4418-828c-a87912559561"
      },
      "execution_count": 5,
      "outputs": [
        {
          "output_type": "stream",
          "name": "stdout",
          "text": [
            "\n",
            "Data types in array_list:\n"
          ]
        }
      ]
    },
    {
      "cell_type": "markdown",
      "source": [
        "Question 4"
      ],
      "metadata": {
        "id": "0iQGbrQ43Y2L"
      }
    },
    {
      "cell_type": "code",
      "source": [
        "data=np.random.randn(4,6)\n",
        "data.shape\n",
        "data.size\n"
      ],
      "metadata": {
        "colab": {
          "base_uri": "https://localhost:8080/"
        },
        "id": "xdjg_Jkn3bD7",
        "outputId": "cc5ea9cd-b828-41e0-8e6e-d8446f833f1d"
      },
      "execution_count": 8,
      "outputs": [
        {
          "output_type": "execute_result",
          "data": {
            "text/plain": [
              "24"
            ]
          },
          "metadata": {},
          "execution_count": 8
        }
      ]
    },
    {
      "cell_type": "markdown",
      "source": [
        "Question 5"
      ],
      "metadata": {
        "id": "L3pwjOGo4J_7"
      }
    },
    {
      "cell_type": "code",
      "source": [
        "data=np.zeros((3,3))\n",
        "data"
      ],
      "metadata": {
        "colab": {
          "base_uri": "https://localhost:8080/"
        },
        "id": "jC65_mJC4MOz",
        "outputId": "ee52a713-2809-4a8c-ea63-39da5695661e"
      },
      "execution_count": 12,
      "outputs": [
        {
          "output_type": "execute_result",
          "data": {
            "text/plain": [
              "array([[0., 0., 0.],\n",
              "       [0., 0., 0.],\n",
              "       [0., 0., 0.]])"
            ]
          },
          "metadata": {},
          "execution_count": 12
        }
      ]
    },
    {
      "cell_type": "markdown",
      "source": [
        "Question 6"
      ],
      "metadata": {
        "id": "-lNHTmFZ4yv4"
      }
    },
    {
      "cell_type": "code",
      "source": [
        "data=np.eye(3)\n",
        "data"
      ],
      "metadata": {
        "colab": {
          "base_uri": "https://localhost:8080/"
        },
        "id": "7gdVdgqH40kr",
        "outputId": "889c0913-6183-4c0a-be17-bddd8b07e40e"
      },
      "execution_count": 13,
      "outputs": [
        {
          "output_type": "execute_result",
          "data": {
            "text/plain": [
              "array([[1., 0., 0.],\n",
              "       [0., 1., 0.],\n",
              "       [0., 0., 1.]])"
            ]
          },
          "metadata": {},
          "execution_count": 13
        }
      ]
    }
  ]
}